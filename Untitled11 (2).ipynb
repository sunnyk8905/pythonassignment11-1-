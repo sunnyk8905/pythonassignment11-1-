{
 "cells": [
  {
   "cell_type": "code",
   "execution_count": null,
   "id": "1303f056-c2de-41ed-b09d-916d679275a7",
   "metadata": {},
   "outputs": [],
   "source": [
    "Q1. What is multiprocessing in python? Why is it useful?"
   ]
  },
  {
   "cell_type": "code",
   "execution_count": null,
   "id": "00f123be-ecec-48f7-adee-fec8d424f482",
   "metadata": {},
   "outputs": [],
   "source": [
    "Multiprocessing in Python refers to the capability of executing multiple processes concurrently to achieve parallelism. It allows you to run multiple Python processes simultaneously, each with its own memory space, resources, and execution context. "
   ]
  },
  {
   "cell_type": "code",
   "execution_count": null,
   "id": "7f160eac-781e-4f86-8a5b-79d688245486",
   "metadata": {},
   "outputs": [],
   "source": [
    "Multiprocessing is useful in several scenarios:\n",
    "     It enables faster execution, increased performance, and improved resource utilization in Python programs."
   ]
  },
  {
   "cell_type": "code",
   "execution_count": null,
   "id": "2dbdf6a9-1b7a-4c47-b418-0226ad4d6ed3",
   "metadata": {},
   "outputs": [],
   "source": [
    "Q2. What are the differences between multiprocessing and multithreading?"
   ]
  },
  {
   "cell_type": "code",
   "execution_count": null,
   "id": "320eb8a0-48ef-422a-adb9-2d4f1268dfc1",
   "metadata": {},
   "outputs": [],
   "source": [
    "Multiprocessing: In multiprocessing, multiple processes are created, and each process has its own memory space, resources, and execution context. Processes run in separate address spaces and do not share memory by default."
   ]
  },
  {
   "cell_type": "code",
   "execution_count": null,
   "id": "7a881104-b845-49b1-946d-420df42b84ba",
   "metadata": {},
   "outputs": [],
   "source": [
    "Multithreading: In multithreading, multiple threads are created within a single process, and all threads share the same memory space and resources of the process. Threads run in the same address space and can directly access and modify shared data."
   ]
  },
  {
   "cell_type": "code",
   "execution_count": null,
   "id": "455e32a4-e422-4edc-a312-8f3711078083",
   "metadata": {},
   "outputs": [],
   "source": [
    "Q3. Write a python code to create a process using the multiprocessing module."
   ]
  },
  {
   "cell_type": "code",
   "execution_count": 1,
   "id": "6699fb41-945d-4e06-bc3b-f7a78cc151be",
   "metadata": {},
   "outputs": [
    {
     "name": "stdout",
     "output_type": "stream",
     "text": [
      "Hello Alice\n",
      "Process execution completed.\n"
     ]
    }
   ],
   "source": [
    "import multiprocessing\n",
    "\n",
    "def process_function(name):\n",
    "    print(\"Hello\", name)\n",
    "\n",
    "if __name__ == '__main__':\n",
    "    \n",
    "    process = multiprocessing.Process(target=process_function, args=('Alice',))\n",
    "\n",
    "    \n",
    "    process.start()\n",
    "\n",
    "    \n",
    "    process.join()\n",
    "\n",
    "    print(\"Process execution completed.\")\n"
   ]
  },
  {
   "cell_type": "code",
   "execution_count": null,
   "id": "e11dc606-d54a-497a-a713-ec2ce2517f07",
   "metadata": {},
   "outputs": [],
   "source": [
    "Q4. What is a multiprocessing pool in python? Why is it used?"
   ]
  },
  {
   "cell_type": "code",
   "execution_count": null,
   "id": "5a2c2b33-b84a-4199-ba91-30e7d82a5f1e",
   "metadata": {},
   "outputs": [],
   "source": [
    "A multiprocessing pool in Python, specifically provided by the multiprocessing.Pool class, is a high-level interface for distributing the execution of tasks across multiple processes. "
   ]
  },
  {
   "cell_type": "code",
   "execution_count": null,
   "id": "4a4478fe-8dc2-40e7-83a8-c6a57b503aee",
   "metadata": {},
   "outputs": [],
   "source": [
    "multiprocessing pools provide a convenient and efficient way to parallelize computations and achieve better performance in CPU-bound tasks."
   ]
  },
  {
   "cell_type": "code",
   "execution_count": null,
   "id": "a6a9abcc-96b5-4f60-ae2b-e3b48907db9b",
   "metadata": {},
   "outputs": [],
   "source": [
    "Q5. How can we create a pool of worker processes in python using the multiprocessing module?"
   ]
  },
  {
   "cell_type": "code",
   "execution_count": 2,
   "id": "31685b3d-b938-4016-88f0-5babe2e8ae7d",
   "metadata": {},
   "outputs": [
    {
     "name": "stdout",
     "output_type": "stream",
     "text": [
      "Hello, Alice\n",
      "Hello, Bob\n",
      "Hello, Charlie\n",
      "Hello, Dave\n"
     ]
    }
   ],
   "source": [
    "import multiprocessing\n",
    "\n",
    "def process_function(name):\n",
    "    return f\"Hello, {name}\"\n",
    "\n",
    "if __name__ == '__main__':\n",
    "    \n",
    "    pool = multiprocessing.Pool()\n",
    "\n",
    "    \n",
    "    results = []\n",
    "    names = ['Alice', 'Bob', 'Charlie', 'Dave']\n",
    "    for name in names:\n",
    "        result = pool.apply_async(process_function, (name,))\n",
    "        results.append(result)\n",
    "\n",
    "    \n",
    "    pool.close()\n",
    "    pool.join()\n",
    "\n",
    "    \n",
    "    for result in results:\n",
    "        print(result.get())\n"
   ]
  },
  {
   "cell_type": "code",
   "execution_count": null,
   "id": "2da4fa63-74a9-4f6b-8245-7fc29fc04c2e",
   "metadata": {},
   "outputs": [],
   "source": [
    "Q6. Write a python program to create 4 processes, each process should print a different number using the\n",
    "multiprocessing module in python."
   ]
  },
  {
   "cell_type": "code",
   "execution_count": 3,
   "id": "fe541fe6-47d9-4850-a05f-992ad609af44",
   "metadata": {},
   "outputs": [
    {
     "name": "stdout",
     "output_type": "stream",
     "text": [
      "Process ID: Process ID:1926  - Number:1929 Process ID: 1- Number:\n",
      "  19402 Process ID:\n",
      "- Number:  19613 \n",
      "- Number: 4\n"
     ]
    }
   ],
   "source": [
    "import multiprocessing\n",
    "\n",
    "def print_number(number):\n",
    "    print(\"Process ID:\", multiprocessing.current_process().pid, \"- Number:\", number)\n",
    "\n",
    "if __name__ == '__main__':\n",
    "    numbers = [1, 2, 3, 4]\n",
    "\n",
    "    processes = []\n",
    "    for number in numbers:\n",
    "        process = multiprocessing.Process(target=print_number, args=(number,))\n",
    "        processes.append(process)\n",
    "        process.start()\n",
    "\n",
    "    for process in processes:\n",
    "        process.join()\n"
   ]
  },
  {
   "cell_type": "code",
   "execution_count": null,
   "id": "93eef11a-276a-4c08-bd93-b2dc58924aca",
   "metadata": {},
   "outputs": [],
   "source": []
  }
 ],
 "metadata": {
  "kernelspec": {
   "display_name": "Python 3 (ipykernel)",
   "language": "python",
   "name": "python3"
  },
  "language_info": {
   "codemirror_mode": {
    "name": "ipython",
    "version": 3
   },
   "file_extension": ".py",
   "mimetype": "text/x-python",
   "name": "python",
   "nbconvert_exporter": "python",
   "pygments_lexer": "ipython3",
   "version": "3.10.8"
  }
 },
 "nbformat": 4,
 "nbformat_minor": 5
}
